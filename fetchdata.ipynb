{
 "cells": [
  {
   "cell_type": "code",
   "execution_count": 1,
   "id": "6c36801c-a9ba-4b8e-977c-1bb896283913",
   "metadata": {},
   "outputs": [
    {
     "name": "stdout",
     "output_type": "stream",
     "text": [
      "Requirement already satisfied: requests in c:\\users\\ruxan\\anaconda3\\lib\\site-packages (2.32.2)\n",
      "Requirement already satisfied: charset-normalizer<4,>=2 in c:\\users\\ruxan\\anaconda3\\lib\\site-packages (from requests) (2.0.4)\n",
      "Requirement already satisfied: idna<4,>=2.5 in c:\\users\\ruxan\\anaconda3\\lib\\site-packages (from requests) (3.7)\n",
      "Requirement already satisfied: urllib3<3,>=1.21.1 in c:\\users\\ruxan\\anaconda3\\lib\\site-packages (from requests) (2.2.2)\n",
      "Requirement already satisfied: certifi>=2017.4.17 in c:\\users\\ruxan\\anaconda3\\lib\\site-packages (from requests) (2024.8.30)\n",
      "Note: you may need to restart the kernel to use updated packages.\n"
     ]
    }
   ],
   "source": [
    "pip install requests\n"
   ]
  },
  {
   "cell_type": "code",
   "execution_count": 7,
   "id": "104d728c-d80d-47c3-b7fd-f1d77275b875",
   "metadata": {},
   "outputs": [
    {
     "name": "stdout",
     "output_type": "stream",
     "text": [
      "                     Closed  \\\n",
      "0 2009-02-16 16:04:06+00:00   \n",
      "1 2009-02-16 16:05:07+00:00   \n",
      "2 2007-04-07 05:26:22+00:00   \n",
      "3 2015-02-20 22:56:50+00:00   \n",
      "4 2009-02-16 16:19:17+00:00   \n",
      "\n",
      "                                             Summary  \\\n",
      "0               document properties cannot be listed   \n",
      "1   layout bug: table cell overflows containing cell   \n",
      "2    table saved as text: missing inter-column space   \n",
      "3  nested <TABLE>s: bgcolor of inner table not re...   \n",
      "4  Navigator draws entities like &lt;&amp;&gt; as...   \n",
      "\n",
      "                          Assignee  BugID    Status Resolution Severity  \\\n",
      "0  rickg@formerly-netscape.com.tld     91  VERIFIED      FIXED    major   \n",
      "1       nisheeth_mozilla@yahoo.com    103  VERIFIED      FIXED   normal   \n",
      "2              brendan@mozilla.org    104  VERIFIED    WONTFIX    minor   \n",
      "3       nisheeth_mozilla@yahoo.com    105  VERIFIED      FIXED   normal   \n",
      "4  ftang@formerly-netscape.com.tld    133  VERIFIED      FIXED    minor   \n",
      "\n",
      "                     Opened  \\\n",
      "0 1998-04-07 23:05:23+00:00   \n",
      "1 1998-04-08 01:43:26+00:00   \n",
      "2 1998-04-08 02:16:02+00:00   \n",
      "3 1998-04-08 02:54:41+00:00   \n",
      "4 1998-04-10 11:41:16+00:00   \n",
      "\n",
      "                                  assigned_to_detail Priority  days_taken  \n",
      "0  {'email': 'rickg@formerly-netscape.com.tld', '...       P3        3967  \n",
      "1  {'name': 'nisheeth_mozilla@yahoo.com', 'email'...       P1        3967  \n",
      "2  {'email': 'brendan@mozilla.org', 'nick': 'bren...       P3        3286  \n",
      "3  {'name': 'nisheeth_mozilla@yahoo.com', 'nick':...       P2        6162  \n",
      "4  {'name': 'ftang@formerly-netscape.com.tld', 'r...       P3        3965  \n"
     ]
    }
   ],
   "source": [
    "import requests\n",
    "import pandas as pd\n",
    "\n",
    "# Set base URL and parameters\n",
    "base_url = \"https://bugzilla.mozilla.org/rest/bug\"\n",
    "params = {\n",
    "    #\"product\": \"Firefox\",  \n",
    "    \"product\": \"Core\",\n",
    "    \"include_fields\": \"id,severity,priority,assigned_to,status,creation_time,resolution,summary,last_change_time\",\n",
    "    \"limit\": 92000\n",
    "}\n",
    "\n",
    "# Make request\n",
    "response = requests.get(base_url, params=params)\n",
    "if response.status_code == 200:\n",
    "    bugs = response.json().get(\"bugs\", [])\n",
    "    # Process data into DataFrame\n",
    "    df = pd.DataFrame(bugs)\n",
    "    df[\"creation_time\"] = pd.to_datetime(df[\"creation_time\"])\n",
    "    df[\"last_change_time\"] = pd.to_datetime(df[\"last_change_time\"])\n",
    "    df[\"days_taken\"] = (df[\"last_change_time\"] - df[\"creation_time\"]).dt.days  # Calculate days taken\n",
    "    df = df.rename(columns={\n",
    "        \"id\": \"BugID\",\n",
    "        \"severity\": \"Severity\",\n",
    "        \"priority\": \"Priority\",\n",
    "        \"assigned_to\": \"Assignee\",\n",
    "        \"status\": \"Status\",\n",
    "        \"creation_time\": \"Opened\",\n",
    "        \"last_change_time\": \"Closed\",\n",
    "        \"resolution\": \"Resolution\",\n",
    "        \"summary\": \"Summary\"\n",
    "    })\n",
    "    print(df.head())  # Display the data for review\n",
    "else:\n",
    "    print(\"Error fetching data:\", response.status_code, response.text)\n"
   ]
  },
  {
   "cell_type": "code",
   "execution_count": 9,
   "id": "7caabf05-6b42-4d3d-a449-b778142f9df2",
   "metadata": {},
   "outputs": [],
   "source": [
    "# Convert the data into a DataFrame\n",
    "data = pd.DataFrame(df)\n",
    "#data.to_csv('firefox_bug_reports.csv', index=False)\n",
    "data.to_csv('core_bug_reports.csv', index=False)"
   ]
  },
  {
   "cell_type": "code",
   "execution_count": null,
   "id": "0a5f8148-11bb-4051-ae0c-f89f1d4a5c19",
   "metadata": {},
   "outputs": [],
   "source": []
  }
 ],
 "metadata": {
  "kernelspec": {
   "display_name": "Python 3 (ipykernel)",
   "language": "python",
   "name": "python3"
  },
  "language_info": {
   "codemirror_mode": {
    "name": "ipython",
    "version": 3
   },
   "file_extension": ".py",
   "mimetype": "text/x-python",
   "name": "python",
   "nbconvert_exporter": "python",
   "pygments_lexer": "ipython3",
   "version": "3.12.7"
  }
 },
 "nbformat": 4,
 "nbformat_minor": 5
}
